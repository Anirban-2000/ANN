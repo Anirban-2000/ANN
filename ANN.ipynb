{
  "nbformat": 4,
  "nbformat_minor": 0,
  "metadata": {
    "colab": {
      "provenance": []
    },
    "kernelspec": {
      "name": "python3",
      "display_name": "Python 3"
    },
    "language_info": {
      "name": "python"
    }
  },
  "cells": [
    {
      "cell_type": "code",
      "execution_count": null,
      "metadata": {
        "id": "03A0_FmSac5E"
      },
      "outputs": [],
      "source": [
        "##ANN: Customer Churn Prediction\n",
        "\n",
        "from sklearn.datasets import make_moons\n",
        "from sklearn.model_selection import train_test_split\n",
        "from sklearn.preprocessing import StandardScaler\n",
        "import tensorflow as tf\n",
        "X, y = make_moons(n_samples=1000, noise=0.2, random_state=42)\n",
        "X_train, X_test, y_train, y_test = train_test_split(X, y, test_size=0.2, random_state=42)\n",
        "\n",
        "scaler = StandardScaler()\n",
        "X_train = scaler.fit_transform(X_train)\n",
        "X_test = scaler.transform(X_test)\n",
        "\n",
        "model = tf.keras.Sequential([\n",
        "    tf.keras.layers.Dense(16, activation='relu', input_shape=(2,)),\n",
        "            tf.keras.layers.Dense(8, activation='relu'),\n",
        "                        tf.keras.layers.Dense(1, activation='sigmoid')\n",
        "                                    ])\n",
        "\n",
        "##adam: smart optimizer, adjusts learning rate automatically.\n",
        "\n",
        "##binary_crossentropy: used for binary classification.\n",
        "\n",
        "##accuracy: metric to track how well the model performs.\n",
        "\n",
        "model.compile(loss='binary_crossentropy', optimizer='adam', metrics=['accuracy'])\n",
        "model.fit(X_train, y_train, epochs=20, validation_data=(X_test, y_test))\n",
        "\n",
        "\n",
        "\n",
        "## o/p\n",
        "## Epoch 1/20\tTraining pass 1 out of 20\n",
        "## loss\tTraining loss (error) — lower is better\n",
        "## accuracy\tTraining accuracy (how many correct) — higher is better\n",
        "## val_loss\tValidation loss on unseen data\n",
        "## val_accuracy\tValidation accuracy — important to check overfitting\n",
        "\n",
        "\n",
        "## If accuracy increases and loss decreases over time → model is learning well.\n",
        "\n",
        "## If training accuracy is high, but validation accuracy is low → model is overfitting.\n",
        "\n",
        "## If both are low → model is underfitting, maybe too simple or not trained enough."
      ]
    }
  ]
}